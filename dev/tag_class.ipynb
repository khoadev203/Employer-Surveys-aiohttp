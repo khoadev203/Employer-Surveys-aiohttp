{
 "cells": [
  {
   "cell_type": "code",
   "execution_count": 1,
   "metadata": {
    "collapsed": true
   },
   "outputs": [],
   "source": [
    "import asyncio"
   ]
  },
  {
   "cell_type": "code",
   "execution_count": 2,
   "outputs": [],
   "source": [
    "class Tag:\n",
    "    def __init__(self):\n",
    "        self.tag_lock = asyncio.Lock()\n",
    "        self.queue = asyncio.Queue()\n",
    "        self.tags = []\n",
    "\n",
    "    async def add(self, tag):\n",
    "        await self.queue.put(tag)\n",
    "\n",
    "    async def proc(self):\n",
    "        while item := await self.queue.get():\n",
    "            print('Got Queue Item:', item)"
   ],
   "metadata": {
    "collapsed": false,
    "pycharm": {
     "name": "#%%\n"
    }
   }
  },
  {
   "cell_type": "code",
   "execution_count": 3,
   "outputs": [
    {
     "name": "stdout",
     "output_type": "stream",
     "text": [
      "Got Queue Item: test\n"
     ]
    }
   ],
   "source": [
    "tag = Tag()\n",
    "asyncio.gather(asyncio.create_task(tag.proc()))\n",
    "await tag.add('test')"
   ],
   "metadata": {
    "collapsed": false,
    "pycharm": {
     "name": "#%%\n"
    }
   }
  },
  {
   "cell_type": "code",
   "execution_count": 4,
   "outputs": [
    {
     "name": "stdout",
     "output_type": "stream",
     "text": [
      "Got Queue Item: test2\n"
     ]
    }
   ],
   "source": [
    "await tag.add('test2')"
   ],
   "metadata": {
    "collapsed": false,
    "pycharm": {
     "name": "#%%\n"
    }
   }
  }
 ],
 "metadata": {
  "kernelspec": {
   "display_name": "Python 3",
   "language": "python",
   "name": "python3"
  },
  "language_info": {
   "codemirror_mode": {
    "name": "ipython",
    "version": 2
   },
   "file_extension": ".py",
   "mimetype": "text/x-python",
   "name": "python",
   "nbconvert_exporter": "python",
   "pygments_lexer": "ipython2",
   "version": "2.7.6"
  }
 },
 "nbformat": 4,
 "nbformat_minor": 0
}