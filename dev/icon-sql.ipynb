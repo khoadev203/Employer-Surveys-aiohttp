{
 "cells": [
  {
   "cell_type": "code",
   "execution_count": 15,
   "metadata": {
    "collapsed": true
   },
   "outputs": [],
   "source": [
    "import aiomysql\n",
    "import asyncio\n",
    "from mo_dots import to_data, Data\n",
    "import ujson\n",
    "from pathlib import Path\n",
    "import os\n",
    "from pyprnt import prnt\n",
    "from aiomysql import DictCursor"
   ]
  },
  {
   "cell_type": "code",
   "execution_count": 16,
   "outputs": [
    {
     "ename": "SyntaxError",
     "evalue": "invalid syntax (<ipython-input-16-df19bde82936>, line 32)",
     "output_type": "error",
     "traceback": [
      "\u001B[0;36m  File \u001B[0;32m\"<ipython-input-16-df19bde82936>\"\u001B[0;36m, line \u001B[0;32m32\u001B[0m\n\u001B[0;31m    print(count)\u001B[0m\n\u001B[0m    ^\u001B[0m\n\u001B[0;31mSyntaxError\u001B[0m\u001B[0;31m:\u001B[0m invalid syntax\n"
     ]
    }
   ],
   "source": [
    "loop = asyncio.get_event_loop()\n",
    "sql = await aiomysql.create_pool(host=\"127.0.0.1\", port=3306,\n",
    "                                 user=\"esurvey\", password=\"\",\n",
    "                                 db=\"esurvey\", loop=loop, autocommit=True)\n",
    "async with sql.acquire() as conn:\n",
    "    async with conn.cursor(DictCursor) as cur:\n",
    "        icon_cache = Data()\n",
    "        count = 0\n",
    "        for file_path in Path(\"../api/collections-json/json\").iterdir():\n",
    "            lib_name = file_path.with_suffix('').name\n",
    "            prnt(lib_name)\n",
    "            with open(file_path) as lib_file:\n",
    "                icolib = to_data(ujson.load(lib_file))\n",
    "                for icon in icolib.icons:\n",
    "                    #prnt(icon)\n",
    "                    if icon in icon_cache:\n",
    "                        icon_cache[icon].prefixes.append(lib_name)\n",
    "                        #prnt(icon_cache[icon])\n",
    "                    else:\n",
    "                        icon_cache[icon]['prefixes'] = [lib_name]\n",
    "                        #prnt(icon_cache[icon])\n",
    "                    count += 1\n",
    "\n",
    "                    await cur.execute(\"\"\"\n",
    "                                      INSERT INTO tags\n",
    "                                      SET\n",
    "                                          slug = %s,\n",
    "                                          prefixes = %s\n",
    "                                      \"\"\", (icon,\n",
    "                                            ujson.dumps(icon_cache[icon]['prefixes']),)\n",
    "\n",
    "print(count)"
   ],
   "metadata": {
    "collapsed": false,
    "pycharm": {
     "name": "#%%\n"
    }
   }
  }
 ],
 "metadata": {
  "kernelspec": {
   "display_name": "Python 3",
   "language": "python",
   "name": "python3"
  },
  "language_info": {
   "codemirror_mode": {
    "name": "ipython",
    "version": 2
   },
   "file_extension": ".py",
   "mimetype": "text/x-python",
   "name": "python",
   "nbconvert_exporter": "python",
   "pygments_lexer": "ipython2",
   "version": "2.7.6"
  }
 },
 "nbformat": 4,
 "nbformat_minor": 0
}