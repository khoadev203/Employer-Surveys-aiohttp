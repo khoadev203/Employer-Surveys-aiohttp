{
 "cells": [
  {
   "cell_type": "code",
   "execution_count": 9,
   "metadata": {
    "collapsed": true
   },
   "outputs": [],
   "source": [
    "import re\n",
    "import math"
   ]
  },
  {
   "cell_type": "code",
   "execution_count": 10,
   "outputs": [],
   "source": [
    "def light_or_dark(color, threshold=127.5):\n",
    "    \"\"\"\n",
    "    Takes a color value (Hex or RGB). Returns\n",
    "    true if color is light, False if the color\n",
    "    is dark.\n",
    "    :param color: Any hex or rgb string.\n",
    "    :param threshold: light/dark threshold. The deault is usually suitable.\n",
    "    :return: True if the color is light, False if it's dark.\n",
    "    \"\"\"\n",
    "    if color[:3] == 'rgb':\n",
    "        color = re.match(\"/^rgba?\\((\\d+),\\s*(\\d+),\\s*(\\d+)(?:,\\s*(\\d+(?:\\.\\d+)?))?\\)$/\", color)\n",
    "\n",
    "        r = color[1]\n",
    "        g = color[2]\n",
    "        b = color[3]\n",
    "    else:\n",
    "        color = int(re.sub(\"(.)\", r\"\\1\\1\" if len(color)<5 else r\"\\1\", color[1:]), 16)\n",
    "        r = color >> 16\n",
    "        g = color >> 8 & 255\n",
    "        b = color & 255\n",
    "    hsp = math.sqrt(\n",
    "            0.299 * (r * r) +\n",
    "            0.587 * (g * g) +\n",
    "            0.114 * (b * b)\n",
    "        )\n",
    "    return hsp > threshold"
   ],
   "metadata": {
    "collapsed": false,
    "pycharm": {
     "name": "#%%\n"
    }
   }
  },
  {
   "cell_type": "code",
   "execution_count": 11,
   "outputs": [
    {
     "name": "stdout",
     "output_type": "stream",
     "text": [
      "True\n",
      "False\n"
     ]
    }
   ],
   "source": [
    "print(\n",
    "    light_or_dark(\"#FFFFFF\")\n",
    ")\n",
    "print(\n",
    "    light_or_dark(\"#000000\")\n",
    ")"
   ],
   "metadata": {
    "collapsed": false,
    "pycharm": {
     "name": "#%%\n"
    }
   }
  }
 ],
 "metadata": {
  "kernelspec": {
   "display_name": "Python 3",
   "language": "python",
   "name": "python3"
  },
  "language_info": {
   "codemirror_mode": {
    "name": "ipython",
    "version": 2
   },
   "file_extension": ".py",
   "mimetype": "text/x-python",
   "name": "python",
   "nbconvert_exporter": "python",
   "pygments_lexer": "ipython2",
   "version": "2.7.6"
  }
 },
 "nbformat": 4,
 "nbformat_minor": 0
}